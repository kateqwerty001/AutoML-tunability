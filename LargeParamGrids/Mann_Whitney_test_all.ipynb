{
 "cells": [
  {
   "cell_type": "code",
   "execution_count": 22,
   "metadata": {},
   "outputs": [],
   "source": [
    "import numpy as np\n",
    "import pandas as pd\n",
    "import matplotlib.pyplot as plt\n",
    "import seaborn as sns\n",
    "from scipy.stats import mannwhitneyu"
   ]
  },
  {
   "cell_type": "markdown",
   "metadata": {},
   "source": [
    "### Loading data"
   ]
  },
  {
   "cell_type": "code",
   "execution_count": 23,
   "metadata": {},
   "outputs": [],
   "source": [
    "# load data RandomSearch - SVM \n",
    "svm_1_random = pd.read_csv('RandomSearch/SupportVectorMachine/svm_1.csv')\n",
    "svm_2_random = pd.read_csv('RandomSearch/SupportVectorMachine/svm_2.csv')\n",
    "svm_3_random = pd.read_csv('RandomSearch/SupportVectorMachine/svm_3.csv')\n",
    "svm_4_random = pd.read_csv('RandomSearch/SupportVectorMachine/svm_4.csv')\n",
    "\n",
    "svm_1_random = svm_1_random[['roc_auc']]\n",
    "svm_1_random.columns = ['roc_auc_1']\n",
    "svm_2_random = svm_2_random[['roc_auc']]\n",
    "svm_2_random.columns = ['roc_auc_2']\n",
    "svm_3_random = svm_3_random[['roc_auc']]\n",
    "svm_3_random.columns = ['roc_auc_3']\n",
    "svm_4_random = svm_4_random[['roc_auc']]\n",
    "svm_4_random.columns = ['roc_auc_4']\n",
    "\n",
    "# we dont do scaling for roc_auc, because it does not make sense"
   ]
  },
  {
   "cell_type": "code",
   "execution_count": 24,
   "metadata": {},
   "outputs": [],
   "source": [
    "# load data BayesSearch - SVM\n",
    "svm_1_bayes = pd.read_csv('BayesSearch/SupportVectorMachine/svm_1.csv')\n",
    "svm_2_bayes = pd.read_csv('BayesSearch/SupportVectorMachine/svm_2_200.csv')\n",
    "svm_3_bayes = pd.read_csv('BayesSearch/SupportVectorMachine/svm_3.csv')\n",
    "svm_4_bayes = pd.read_csv('BayesSearch/SupportVectorMachine/svm_4.csv')\n",
    "\n",
    "svm_1_bayes = svm_1_bayes[['mean_test_score']]\n",
    "svm_1_bayes.columns = ['roc_auc_1']\n",
    "svm_2_bayes = svm_2_bayes[['mean_test_score']]\n",
    "svm_2_bayes.columns = ['roc_auc_2']\n",
    "svm_3_bayes = svm_3_bayes[['mean_test_score']]\n",
    "svm_3_bayes.columns = ['roc_auc_3']\n",
    "svm_4_bayes = svm_4_bayes[['mean_test_score']]\n",
    "svm_4_bayes.columns = ['roc_auc_4']"
   ]
  },
  {
   "cell_type": "code",
   "execution_count": 25,
   "metadata": {},
   "outputs": [],
   "source": [
    "# load data RandomSearch - CatBoost\n",
    "catboost_1_random = pd.read_csv('RandomSearch/CatBoost/catboost_1.csv')\n",
    "catboost_2_random = pd.read_csv('RandomSearch/CatBoost/catboost_2.csv')\n",
    "catboost_3_random = pd.read_csv('RandomSearch/CatBoost/catboost_3.csv')\n",
    "catboost_4_random = pd.read_csv('RandomSearch/CatBoost/catboost_4.csv')\n",
    "\n",
    "catboost_1_random = catboost_1_random[['roc_auc']]\n",
    "catboost_1_random.columns = ['roc_auc_1']\n",
    "catboost_2_random = catboost_2_random[['roc_auc']]\n",
    "catboost_2_random.columns = ['roc_auc_2']\n",
    "catboost_3_random = catboost_3_random[['roc_auc']]\n",
    "catboost_3_random.columns = ['roc_auc_3']\n",
    "catboost_4_random = catboost_4_random[['roc_auc']]\n",
    "catboost_4_random.columns = ['roc_auc_4']\n",
    "\n",
    "# we dont do scaling for roc_auc, because it does not make sense"
   ]
  },
  {
   "cell_type": "code",
   "execution_count": 26,
   "metadata": {},
   "outputs": [],
   "source": [
    "# load data BayesSearch - CatBoost\n",
    "catboost_1_bayes = pd.read_csv('BayesSearch/CatBoost/catboost_1.csv')\n",
    "catboost_2_bayes = pd.read_csv('BayesSearch/CatBoost/catboost_2_200.csv')\n",
    "catboost_3_bayes = pd.read_csv('BayesSearch/CatBoost/catboost_3.csv')\n",
    "catboost_4_bayes = pd.read_csv('BayesSearch/CatBoost/catboost_4.csv')\n",
    "\n",
    "catboost_1_bayes = catboost_1_bayes[['mean_test_score']]\n",
    "catboost_1_bayes.columns = ['roc_auc_1']\n",
    "catboost_2_bayes = catboost_2_bayes[['mean_test_score']]\n",
    "catboost_2_bayes.columns = ['roc_auc_2']\n",
    "catboost_3_bayes = catboost_3_bayes[['mean_test_score']]\n",
    "catboost_3_bayes.columns = ['roc_auc_3']\n",
    "catboost_4_bayes = catboost_4_bayes[['mean_test_score']]\n",
    "catboost_4_bayes.columns = ['roc_auc_4']"
   ]
  },
  {
   "cell_type": "code",
   "execution_count": 27,
   "metadata": {},
   "outputs": [],
   "source": [
    "# load data RandomSearch - ExtraTreesClassifier\n",
    "ExtraTreesClassifier_1_random = pd.read_csv('RandomSearch/ExtraTreesClassifier/extra_trees_1.csv')\n",
    "ExtraTreesClassifier_2_random = pd.read_csv('RandomSearch/ExtraTreesClassifier/extra_trees_2.csv')\n",
    "ExtraTreesClassifier_3_random = pd.read_csv('RandomSearch/ExtraTreesClassifier/extra_trees_3.csv')\n",
    "ExtraTreesClassifier_4_random = pd.read_csv('RandomSearch/ExtraTreesClassifier/extra_trees_4.csv')\n",
    "\n",
    "ExtraTreesClassifier_1_random = ExtraTreesClassifier_1_random[['roc_auc']]\n",
    "ExtraTreesClassifier_1_random.columns = ['roc_auc_1']\n",
    "ExtraTreesClassifier_2_random = ExtraTreesClassifier_2_random[['roc_auc']]\n",
    "ExtraTreesClassifier_2_random.columns = ['roc_auc_2']\n",
    "ExtraTreesClassifier_3_random = ExtraTreesClassifier_3_random[['roc_auc']]\n",
    "ExtraTreesClassifier_3_random.columns = ['roc_auc_3']\n",
    "ExtraTreesClassifier_4_random = ExtraTreesClassifier_4_random[['roc_auc']]\n",
    "ExtraTreesClassifier_4_random.columns = ['roc_auc_4']\n",
    "\n",
    "# we dont do scaling for roc_auc, because it does not make sense"
   ]
  },
  {
   "cell_type": "code",
   "execution_count": 28,
   "metadata": {},
   "outputs": [],
   "source": [
    "# load data BayesSearch - ExtraTreesClassifier\n",
    "ExtraTreesClassifier_1_bayes = pd.read_csv('BayesSearch/ExtraTreesClassifier/extra_trees_1.csv')\n",
    "ExtraTreesClassifier_2_bayes = pd.read_csv('BayesSearch/ExtraTreesClassifier/extra_trees_2_200.csv')\n",
    "ExtraTreesClassifier_3_bayes = pd.read_csv('BayesSearch/ExtraTreesClassifier/extra_trees_3.csv')\n",
    "ExtraTreesClassifier_4_bayes = pd.read_csv('BayesSearch/ExtraTreesClassifier/extra_trees_4.csv')\n",
    "\n",
    "ExtraTreesClassifier_1_bayes = ExtraTreesClassifier_1_bayes[['mean_test_score']]\n",
    "ExtraTreesClassifier_1_bayes.columns = ['roc_auc_1']\n",
    "ExtraTreesClassifier_2_bayes = ExtraTreesClassifier_2_bayes[['mean_test_score']]\n",
    "ExtraTreesClassifier_2_bayes.columns = ['roc_auc_2']\n",
    "ExtraTreesClassifier_3_bayes = ExtraTreesClassifier_3_bayes[['mean_test_score']]\n",
    "ExtraTreesClassifier_3_bayes.columns = ['roc_auc_3']\n",
    "ExtraTreesClassifier_4_bayes = ExtraTreesClassifier_4_bayes[['mean_test_score']]\n",
    "ExtraTreesClassifier_4_bayes.columns = ['roc_auc_4']"
   ]
  },
  {
   "cell_type": "markdown",
   "metadata": {},
   "source": [
    "# Mann-Whitney Test"
   ]
  },
  {
   "cell_type": "markdown",
   "metadata": {},
   "source": [
    "## Alpha - significance level"
   ]
  },
  {
   "cell_type": "code",
   "execution_count": 29,
   "metadata": {},
   "outputs": [],
   "source": [
    "# setting significance level to 0.05\n",
    "alpha = 0.05"
   ]
  },
  {
   "cell_type": "markdown",
   "metadata": {},
   "source": [
    "## SVM"
   ]
  },
  {
   "cell_type": "markdown",
   "metadata": {},
   "source": [
    "### - Dataset_1 (833) SVM"
   ]
  },
  {
   "cell_type": "code",
   "execution_count": 30,
   "metadata": {},
   "outputs": [
    {
     "name": "stdout",
     "output_type": "stream",
     "text": [
      "Y (ROC AUC for BayesSearch) is stochastically greater than X (ROC AUC for RandomSearch), p-value = 9.725e-14 < 0.05\n"
     ]
    }
   ],
   "source": [
    "# X:\n",
    "svm_1_roc_auc_random = svm_1_random['roc_auc_1'].tolist()\n",
    "# Y:\n",
    "svm_1_roc_auc_bayes = svm_1_bayes['roc_auc_1'].tolist()\n",
    "\n",
    "# H_0: Distribution of X is the same as distribution of Y (F_X = F_Y)\n",
    "# H_1: Y > X Stochastically (alternative: \"less\")\n",
    "\n",
    "stat_svm_1, p_value_svm_1 = mannwhitneyu(svm_1_roc_auc_random, svm_1_roc_auc_bayes, alternative=\"less\")\n",
    "if p_value_svm_1 < alpha:\n",
    "    print(f\"Y (ROC AUC for BayesSearch) is stochastically greater than X (ROC AUC for RandomSearch), p-value = {f'{p_value_svm_1:.3e}'} < 0.05\")\n",
    "else:\n",
    "    print(f\"There is no difference between X and Y (distributions of X and Y are the same), p = {f'{p_value_svm_1:.3e}'} > 0.05\")"
   ]
  },
  {
   "cell_type": "markdown",
   "metadata": {},
   "source": [
    "### - Dataset_2 (44157) SVM"
   ]
  },
  {
   "cell_type": "code",
   "execution_count": 31,
   "metadata": {},
   "outputs": [
    {
     "name": "stdout",
     "output_type": "stream",
     "text": [
      "Y (ROC AUC for BayesSearch) is stochastically greater than X (ROC AUC for RandomSearch), p-value = 9.725e-14 < 0.05\n"
     ]
    }
   ],
   "source": [
    "# X:\n",
    "svm_2_roc_auc_random = svm_2_random['roc_auc_2'].tolist()\n",
    "# Y:\n",
    "svm_2_roc_auc_bayes = svm_2_bayes['roc_auc_2'].tolist()\n",
    "\n",
    "# H_0: Distribution of X is the same as distribution of Y (F_X = F_Y)\n",
    "# H_1: Y > X Stochastically (alternative: \"less\")\n",
    "\n",
    "stat_svm_2, p_value_svm_2 = mannwhitneyu(svm_1_roc_auc_random, svm_1_roc_auc_bayes, alternative=\"less\")\n",
    "if p_value_svm_2< alpha:\n",
    "    print(f\"Y (ROC AUC for BayesSearch) is stochastically greater than X (ROC AUC for RandomSearch), p-value = {f'{p_value_svm_2:.3e}'} < 0.05\")\n",
    "else:\n",
    "    print(f\"There is no difference between X and Y (distributions of X and Y are the same), p = {f'{p_value_svm_2:.3e}'} > 0.05\")"
   ]
  },
  {
   "cell_type": "markdown",
   "metadata": {},
   "source": [
    "### - Dataset_3 (1120) SVM"
   ]
  },
  {
   "cell_type": "code",
   "execution_count": 32,
   "metadata": {},
   "outputs": [
    {
     "name": "stdout",
     "output_type": "stream",
     "text": [
      "Y (ROC AUC for BayesSearch) is stochastically greater than X (ROC AUC for RandomSearch), p-value = 1.102e-12 < 0.05\n"
     ]
    }
   ],
   "source": [
    "# X:\n",
    "svm_3_roc_auc_random = svm_3_random['roc_auc_3'].tolist()\n",
    "# Y:\n",
    "svm_3_roc_auc_bayes = svm_3_bayes['roc_auc_3'].tolist()\n",
    "\n",
    "# H_0: Distribution of X is the same as distribution of Y (F_X = F_Y)\n",
    "# H_1: Y > X Stochastically (alternative: \"less\")\n",
    "\n",
    "stat_svm_3, p_value_svm_3 = mannwhitneyu(svm_3_roc_auc_random, svm_3_roc_auc_bayes, alternative=\"less\")\n",
    "if p_value_svm_3 < alpha:\n",
    "    print(f\"Y (ROC AUC for BayesSearch) is stochastically greater than X (ROC AUC for RandomSearch), p-value = {f'{p_value_svm_3:.3e}'} < 0.05\")\n",
    "else:\n",
    "    print(f\"There is no difference between X and Y (distributions of X and Y are the same), p = {f'{p_value_svm_3:.3e}'} > 0.05\")"
   ]
  },
  {
   "cell_type": "markdown",
   "metadata": {},
   "source": [
    "### - Dataset_4 (45553) SVM"
   ]
  },
  {
   "cell_type": "code",
   "execution_count": 33,
   "metadata": {},
   "outputs": [
    {
     "name": "stdout",
     "output_type": "stream",
     "text": [
      "Y (ROC AUC for BayesSearch) is stochastically greater than X (ROC AUC for RandomSearch), p-value = 2.238e-13 < 0.05\n"
     ]
    }
   ],
   "source": [
    "# X:\n",
    "svm_4_roc_auc_random = svm_4_random['roc_auc_4'].tolist()\n",
    "# Y:\n",
    "svm_4_roc_auc_bayes = svm_4_bayes['roc_auc_4'].tolist()\n",
    "\n",
    "# H_0: Distribution of X is the same as distribution of Y (F_X = F_Y)\n",
    "# H_1: Y > X Stochastically (alternative: \"less\")\n",
    "\n",
    "stat_svm_4, p_value_svm_4 = mannwhitneyu(svm_4_roc_auc_random, svm_4_roc_auc_bayes, alternative=\"less\")\n",
    "if p_value_svm_4 < alpha:\n",
    "    print(f\"Y (ROC AUC for BayesSearch) is stochastically greater than X (ROC AUC for RandomSearch), p-value = {f'{p_value_svm_4:.3e}'} < 0.05\")\n",
    "else:\n",
    "    print(f\"There is no difference between X and Y (distributions of X and Y are the same), p = {f'{p_value_svm_4:.3e}'} > 0.05\")"
   ]
  },
  {
   "cell_type": "markdown",
   "metadata": {},
   "source": [
    "## CatBoost"
   ]
  },
  {
   "cell_type": "markdown",
   "metadata": {},
   "source": [
    "### - Dataset_1 (833) CatBoost"
   ]
  },
  {
   "cell_type": "code",
   "execution_count": 34,
   "metadata": {},
   "outputs": [
    {
     "name": "stdout",
     "output_type": "stream",
     "text": [
      "Y (ROC AUC for BayesSearch) is stochastically greater than X (ROC AUC for RandomSearch), p-value = 1.106e-02 < 0.05\n"
     ]
    }
   ],
   "source": [
    "# X:\n",
    "catboost_1_roc_auc_random = catboost_1_random['roc_auc_1'].tolist()\n",
    "# Y:\n",
    "catboost_1_roc_auc_bayes = catboost_1_bayes['roc_auc_1'].tolist()\n",
    "\n",
    "# H_0: Distribution of X is the same as distribution of Y (F_X = F_Y)\n",
    "# H_1: Y > X Stochastically (alternative: \"less\")\n",
    "\n",
    "stat_catboost_1, p_value_catboost_1 = mannwhitneyu(catboost_1_roc_auc_random, catboost_1_roc_auc_bayes, alternative=\"less\")\n",
    "if p_value_catboost_1 < alpha:\n",
    "    print(f\"Y (ROC AUC for BayesSearch) is stochastically greater than X (ROC AUC for RandomSearch), p-value = {f'{p_value_catboost_1:.3e}'} < 0.05\")\n",
    "else:\n",
    "    print(f\"There is no difference between X and Y (distributions of X and Y are the same), p = {f'{p_value_catboost_1:.3e}'} > 0.05\")"
   ]
  },
  {
   "cell_type": "markdown",
   "metadata": {},
   "source": [
    "### - Dataset_2 (44157) CatBoost"
   ]
  },
  {
   "cell_type": "code",
   "execution_count": 35,
   "metadata": {},
   "outputs": [
    {
     "name": "stdout",
     "output_type": "stream",
     "text": [
      "There is no difference between X and Y (distributions of X and Y are the same), p = 1.000e+00 > 0.05\n"
     ]
    }
   ],
   "source": [
    "# X:\n",
    "catboost_2_roc_auc_random = catboost_2_random['roc_auc_2'].tolist()\n",
    "# Y:\n",
    "catboost_2_roc_auc_bayes = catboost_2_bayes['roc_auc_2'].tolist()\n",
    "\n",
    "# H_0: Distribution of X is the same as distribution of Y (F_X = F_Y)\n",
    "# H_1: Y > X Stochastically (alternative: \"less\")\n",
    "\n",
    "stat_catboost_2, p_value_catboost_2 = mannwhitneyu(catboost_2_roc_auc_random, catboost_2_roc_auc_bayes, alternative=\"less\")\n",
    "if p_value_catboost_2 < alpha:\n",
    "    print(f\"Y (ROC AUC for BayesSearch) is stochastically greater than X (ROC AUC for RandomSearch), p-value = {f'{p_value_catboost_2 :.3e}'} < 0.05\")\n",
    "else:\n",
    "    print(f\"There is no difference between X and Y (distributions of X and Y are the same), p = {f'{p_value_catboost_2 :.3e}'} > 0.05\")"
   ]
  },
  {
   "cell_type": "markdown",
   "metadata": {},
   "source": [
    "### - Dataset_3 (1120) CatBoost"
   ]
  },
  {
   "cell_type": "code",
   "execution_count": 36,
   "metadata": {},
   "outputs": [
    {
     "name": "stdout",
     "output_type": "stream",
     "text": [
      "Y (ROC AUC for BayesSearch) is stochastically greater than X (ROC AUC for RandomSearch), p-value = 1.121e-05 < 0.05\n"
     ]
    }
   ],
   "source": [
    "# X:\n",
    "catboost_3_roc_auc_random = catboost_3_random['roc_auc_3'].tolist()\n",
    "# Y:\n",
    "catboost_3_roc_auc_bayes = catboost_3_bayes['roc_auc_3'].tolist()\n",
    "\n",
    "# H_0: Distribution of X is the same as distribution of Y (F_X = F_Y)\n",
    "# H_1: Y > X Stochastically (alternative: \"less\")\n",
    "\n",
    "stat_catboost_3, p_value_catboost_3 = mannwhitneyu(catboost_3_roc_auc_random, catboost_3_roc_auc_bayes, alternative=\"less\")\n",
    "if p_value_catboost_3 < alpha:\n",
    "    print(f\"Y (ROC AUC for BayesSearch) is stochastically greater than X (ROC AUC for RandomSearch), p-value = {f'{p_value_catboost_3 :.3e}'} < 0.05\")\n",
    "else:\n",
    "    print(f\"There is no difference between X and Y (distributions of X and Y are the same), p = {f'{p_value_catboost_3 :.3e}'} > 0.05\")"
   ]
  },
  {
   "cell_type": "markdown",
   "metadata": {},
   "source": [
    "### - Dataset_4 (45553) CatBoost"
   ]
  },
  {
   "cell_type": "code",
   "execution_count": 37,
   "metadata": {},
   "outputs": [
    {
     "name": "stdout",
     "output_type": "stream",
     "text": [
      "There is no difference between X and Y (distributions of X and Y are the same), p = 5.301e-01 > 0.05\n"
     ]
    }
   ],
   "source": [
    "# X:\n",
    "catboost_4_roc_auc_random = catboost_4_random['roc_auc_4'].tolist()\n",
    "# Y:\n",
    "catboost_4_roc_auc_bayes = catboost_4_bayes['roc_auc_4'].tolist()\n",
    "\n",
    "# H_0: Distribution of X is the same as distribution of Y (F_X = F_Y)\n",
    "# H_1: Y > X Stochastically (alternative: \"less\")\n",
    "\n",
    "stat_catboost_4, p_value_catboost_4 = mannwhitneyu(catboost_4_roc_auc_random, catboost_4_roc_auc_bayes, alternative=\"less\")\n",
    "if p_value_catboost_4 < alpha:\n",
    "    print(f\"Y (ROC AUC for BayesSearch) is stochastically greater than X (ROC AUC for RandomSearch), p-value = {f'{p_value_catboost_4 :.3e}'} < 0.05\")\n",
    "else:\n",
    "    print(f\"There is no difference between X and Y (distributions of X and Y are the same), p = {f'{p_value_catboost_4 :.3e}'} > 0.05\")"
   ]
  },
  {
   "cell_type": "markdown",
   "metadata": {},
   "source": [
    "## ExtraTreesClassifier"
   ]
  },
  {
   "cell_type": "markdown",
   "metadata": {},
   "source": [
    "### - Dataset_1 (833) ExtraTreesClassifier"
   ]
  },
  {
   "cell_type": "code",
   "execution_count": 38,
   "metadata": {},
   "outputs": [
    {
     "name": "stdout",
     "output_type": "stream",
     "text": [
      "Y (ROC AUC for BayesSearch) is stochastically greater than X (ROC AUC for RandomSearch), p-value = 4.324e-34 < 0.05\n"
     ]
    }
   ],
   "source": [
    "# X:\n",
    "extra_trees_1_roc_auc_random = ExtraTreesClassifier_1_random['roc_auc_1'].tolist()\n",
    "# Y:\n",
    "extra_trees_1_roc_auc_bayes = ExtraTreesClassifier_1_bayes['roc_auc_1'].tolist()\n",
    "\n",
    "# H_0: Distribution of X is the same as distribution of Y (F_X = F_Y)\n",
    "# H_1: Y > X Stochastically (alternative: \"less\")\n",
    "\n",
    "stat_extra_trees_1, p_value_extra_trees_1 = mannwhitneyu(extra_trees_1_roc_auc_random, extra_trees_1_roc_auc_bayes, alternative=\"less\")\n",
    "if p_value_extra_trees_1 < alpha:\n",
    "    print(f\"Y (ROC AUC for BayesSearch) is stochastically greater than X (ROC AUC for RandomSearch), p-value = {f'{p_value_extra_trees_1:.3e}'} < 0.05\")\n",
    "else:\n",
    "    print(f\"There is no difference between X and Y (distributions of X and Y are the same), p = {f'{p_value_extra_trees_1:.3e}'} > 0.05\")"
   ]
  },
  {
   "cell_type": "markdown",
   "metadata": {},
   "source": [
    "### - Dataset_2 (44157) ExtraTreesClassifier"
   ]
  },
  {
   "cell_type": "code",
   "execution_count": 39,
   "metadata": {},
   "outputs": [
    {
     "name": "stdout",
     "output_type": "stream",
     "text": [
      "There is no difference between X and Y (distributions of X and Y are the same), p = 1.000e+00 > 0.05\n"
     ]
    }
   ],
   "source": [
    "# X:\n",
    "extra_trees_2_roc_auc_random = ExtraTreesClassifier_2_random['roc_auc_2'].tolist()\n",
    "# Y:\n",
    "extra_trees_2_roc_auc_bayes = ExtraTreesClassifier_2_bayes['roc_auc_2'].tolist()\n",
    "\n",
    "# H_0: Distribution of X is the same as distribution of Y (F_X = F_Y)\n",
    "# H_1: Y > X Stochastically (alternative: \"less\")\n",
    "\n",
    "stat_extra_trees_2, p_value_extra_trees_2 = mannwhitneyu(extra_trees_2_roc_auc_random, extra_trees_2_roc_auc_bayes, alternative=\"less\")\n",
    "if p_value_extra_trees_2 < alpha:\n",
    "    print(f\"Y (ROC AUC for BayesSearch) is stochastically greater than X (ROC AUC for RandomSearch), p-value = {f'{p_value_extra_trees_2:.3e}'} < 0.05\")\n",
    "else:\n",
    "    print(f\"There is no difference between X and Y (distributions of X and Y are the same), p = {f'{p_value_extra_trees_2:.3e}'} > 0.05\")"
   ]
  },
  {
   "cell_type": "markdown",
   "metadata": {},
   "source": [
    "### - Dataset_3 (1120) ExtraTreesClassifier"
   ]
  },
  {
   "cell_type": "code",
   "execution_count": 40,
   "metadata": {},
   "outputs": [
    {
     "name": "stdout",
     "output_type": "stream",
     "text": [
      "Y (ROC AUC for BayesSearch) is stochastically greater than X (ROC AUC for RandomSearch), p-value = 1.057e-44 < 0.05\n"
     ]
    }
   ],
   "source": [
    "# X:\n",
    "extra_trees_3_roc_auc_random = ExtraTreesClassifier_3_random['roc_auc_3'].tolist()\n",
    "# Y:\n",
    "extra_trees_3_roc_auc_bayes = ExtraTreesClassifier_3_bayes['roc_auc_3'].tolist()\n",
    "\n",
    "# H_0: Distribution of X is the same as distribution of Y (F_X = F_Y)\n",
    "# H_1: Y > X Stochastically (alternative: \"less\")\n",
    "\n",
    "stat_extra_trees_3, p_value_extra_trees_3 = mannwhitneyu(extra_trees_3_roc_auc_random, extra_trees_3_roc_auc_bayes, alternative=\"less\")\n",
    "if p_value_extra_trees_3 < alpha:\n",
    "    print(f\"Y (ROC AUC for BayesSearch) is stochastically greater than X (ROC AUC for RandomSearch), p-value = {f'{p_value_extra_trees_3:.3e}'} < 0.05\")\n",
    "else:\n",
    "    print(f\"There is no difference between X and Y (distributions of X and Y are the same), p = {f'{p_value_extra_trees_3:.3e}'} > 0.05\")"
   ]
  },
  {
   "cell_type": "markdown",
   "metadata": {},
   "source": [
    "### - Dataset_4 (45553) ExtraTreesClassifier"
   ]
  },
  {
   "cell_type": "code",
   "execution_count": 41,
   "metadata": {},
   "outputs": [
    {
     "name": "stdout",
     "output_type": "stream",
     "text": [
      "Y (ROC AUC for BayesSearch) is stochastically greater than X (ROC AUC for RandomSearch), p-value = 9.256e-42 < 0.05\n"
     ]
    }
   ],
   "source": [
    "# X:\n",
    "extra_trees_4_roc_auc_random = ExtraTreesClassifier_4_random['roc_auc_4'].tolist()\n",
    "# Y:\n",
    "extra_trees_4_roc_auc_bayes = ExtraTreesClassifier_4_bayes['roc_auc_4'].tolist()\n",
    "\n",
    "# H_0: Distribution of X is the same as distribution of Y (F_X = F_Y)\n",
    "# H_1: Y > X Stochastically (alternative: \"less\")\n",
    "\n",
    "stat_extra_trees_4, p_value_extra_trees_4 = mannwhitneyu(extra_trees_4_roc_auc_random, extra_trees_4_roc_auc_bayes, alternative=\"less\")\n",
    "if p_value_extra_trees_4 < alpha:\n",
    "    print(f\"Y (ROC AUC for BayesSearch) is stochastically greater than X (ROC AUC for RandomSearch), p-value = {f'{p_value_extra_trees_4:.3e}'} < 0.05\")\n",
    "else:\n",
    "    print(f\"There is no difference between X and Y (distributions of X and Y are the same), p = {f'{p_value_extra_trees_4:.3e}'} > 0.05\")"
   ]
  }
 ],
 "metadata": {
  "kernelspec": {
   "display_name": "6.86x",
   "language": "python",
   "name": "python3"
  },
  "language_info": {
   "codemirror_mode": {
    "name": "ipython",
    "version": 3
   },
   "file_extension": ".py",
   "mimetype": "text/x-python",
   "name": "python",
   "nbconvert_exporter": "python",
   "pygments_lexer": "ipython3",
   "version": "3.10.15"
  }
 },
 "nbformat": 4,
 "nbformat_minor": 2
}
